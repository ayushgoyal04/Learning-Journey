{
 "cells": [
  {
   "cell_type": "code",
   "execution_count": null,
   "id": "d7abeb0a",
   "metadata": {},
   "outputs": [],
   "source": [
    "print(\"Hello\")"
   ]
  },
  {
   "cell_type": "code",
   "execution_count": 8,
   "id": "bf571c20",
   "metadata": {},
   "outputs": [
    {
     "name": "stdout",
     "output_type": "stream",
     "text": [
      "You entered: 50\n"
     ]
    }
   ],
   "source": [
    "v = int(input(\"Enter\"))\n",
    "print(\"You entered:\", 60-v)"
   ]
  },
  {
   "cell_type": "code",
   "execution_count": null,
   "id": "4f651ed5",
   "metadata": {},
   "outputs": [
    {
     "name": "stdout",
     "output_type": "stream",
     "text": [
      "Select operation [+ - / * %]:\n",
      "Result: 31.0\n"
     ]
    }
   ],
   "source": [
    "# calculator\n",
    "def add(x, y):\n",
    "    return x + y\n",
    "def subtract(x, y):\n",
    "    return x - y\n",
    "def multiply(x, y):\n",
    "    return x * y\n",
    "def divide(x, y):\n",
    "    if y == 0:\n",
    "        return \"Cannot divide by zero\"\n",
    "    return x / y\n",
    "def modulo(x, y):\n",
    "    return x % y\n",
    "number1 = float(input(\"Enter first number: \"))\n",
    "number2 = float(input(\"Enter second number: \"))\n",
    "print(\"Select operation [+ - / * %]:\")\n",
    "operation = input(\"Enter operation: \")\n",
    "if operation == \"+\":\n",
    "    print(\"adding\")\n",
    "    print(\"Result:\", add(number1, number2))\n",
    "elif operation == \"-\":\n",
    "    print(\"subtracting\")\n",
    "    print(\"Result:\", subtract(number1, number2))\n",
    "elif operation == \"*\":\n",
    "    print(\"multiplying\")\n",
    "    print(\"Result:\", multiply(number1, number2))\n",
    "elif operation == \"/\":\n",
    "    print(\"dividing\")\n",
    "    print(\"Result:\", divide(number1, number2))\n",
    "elif operation == \"%\":\n",
    "    print(\"modulo\")\n",
    "    print(\"Result:\", modulo(number1, number2))\n",
    "else:\n",
    "    print(\"Invalid operation\")"
   ]
  },
  {
   "cell_type": "code",
   "execution_count": 10,
   "id": "0922a08d",
   "metadata": {},
   "outputs": [],
   "source": [
    "\n",
    "for i in range(2, 15, -2):\n",
    "    print(i)"
   ]
  },
  {
   "cell_type": "code",
   "execution_count": 1,
   "id": "6c3fe9b7",
   "metadata": {},
   "outputs": [
    {
     "name": "stdout",
     "output_type": "stream",
     "text": [
      "3\n",
      "9\n",
      "15\n",
      "21\n",
      "27\n",
      "33\n",
      "39\n",
      "45\n",
      "51\n",
      "57\n"
     ]
    }
   ],
   "source": [
    "# print first 10 odd numbers which are multiple of 3\n",
    "num_count = 10\n",
    "while num_count > 0:\n",
    "    for i in range(1, 100, 2):\n",
    "        if i % 3 == 0:\n",
    "            print(i)\n",
    "            num_count -= 1\n",
    "            if num_count == 0:\n",
    "                break"
   ]
  },
  {
   "cell_type": "code",
   "execution_count": 4,
   "id": "f0773d74",
   "metadata": {},
   "outputs": [
    {
     "name": "stdout",
     "output_type": "stream",
     "text": [
      "Ages: [58, 52, 60, 49, 28, 31, 25, 55, 39, 54, 26, 57, 24, 44, 40, 32, 37, 36, 40, 39]\n",
      "Normalized Ages: [0.9444444444444444, 0.7777777777777778, 1.0, 0.6944444444444444, 0.1111111111111111, 0.19444444444444445, 0.027777777777777776, 0.8611111111111112, 0.4166666666666667, 0.8333333333333334, 0.05555555555555555, 0.9166666666666666, 0.0, 0.5555555555555556, 0.4444444444444444, 0.2222222222222222, 0.3611111111111111, 0.3333333333333333, 0.4444444444444444, 0.4166666666666667]\n",
      "Scaled Ages: [0.8888888888888888, 0.5555555555555556, 1.0, 0.3888888888888889, -0.7777777777777778, -0.6111111111111112, -0.9444444444444444, 0.7222222222222222, -0.16666666666666666, 0.6666666666666666, -0.8888888888888888, 0.8333333333333334, -1.0, 0.1111111111111111, -0.1111111111111111, -0.5555555555555556, -0.2777777777777778, -0.3333333333333333, -0.1111111111111111, -0.16666666666666666]\n"
     ]
    }
   ],
   "source": [
    "# generate 20 random ages between 18 and 60 and convert the generated range to values to [0,1] range-> minimum value map to 0 and max to map to 1\n",
    "import random\n",
    "ages = [random.randint(18, 60) for _ in range(20)]\n",
    "print(\"Ages:\", ages)\n",
    "min_age = min(ages)\n",
    "max_age = max(ages)\n",
    "normalized_ages = [(age - min_age) / (max_age - min_age) for age in ages]\n",
    "print(\"Normalized Ages:\", normalized_ages)\n",
    "\n",
    "# scale the array to [-1, 1] range\n",
    "scaled_ages = [(age - (min_age + max_age) / 2) / ((max_age - min_age) / 2) for age in ages]\n",
    "print(\"Scaled Ages:\", scaled_ages)"
   ]
  },
  {
   "cell_type": "code",
   "execution_count": 8,
   "id": "29896570",
   "metadata": {},
   "outputs": [
    {
     "name": "stdout",
     "output_type": "stream",
     "text": [
      "Mapping: {'0': 0, '1': 1, '2': 2, 'true': True, 'false': False, 1: 'one', 2: 'two', False: False}\n"
     ]
    }
   ],
   "source": [
    "# insitialize a list\n",
    "my_list = [1, 2, 3, \"string\", 5.5, True, None]\n",
    "\n",
    "# intitialize a tuple\n",
    "my_tuple = (1, 2, 3, \"string\", 5.5, True, None)\n",
    "\n",
    "# initialize a set\n",
    "my_set = {1, 2, 3, \"string\", 5.5, True, None}\n",
    "\n",
    "# initialize a dictionary\n",
    "my_dict = {\n",
    "    \"integer\": 1,\n",
    "    \"float\": 5.5,\n",
    "    \"string\": \"example\",\n",
    "    \"boolean\": True,\n",
    "    \"none\": None\n",
    "}\n",
    "\n",
    "# dictionary mapping\n",
    "mapping = {\n",
    "    \"0\": 0,\n",
    "    \"1\": 1,\n",
    "    \"2\": 2,\n",
    "    \"true\": True,\n",
    "    \"false\": False,\n",
    "\n",
    "    1: \"one\",\n",
    "    2: \"two\",\n",
    "    \"true\": True,\n",
    "    False: False,\n",
    "}\n",
    "print(\"Mapping:\", mapping)"
   ]
  },
  {
   "cell_type": "code",
   "execution_count": 10,
   "id": "3712d143",
   "metadata": {},
   "outputs": [
    {
     "name": "stdout",
     "output_type": "stream",
     "text": [
      "Error: 'set' object is not subscriptable\n",
      "Sets are unordered collections and do not support indexing.\n"
     ]
    }
   ],
   "source": [
    "# indexing in set\n",
    "my_set = {1, 2, 3, \"string\", 5.5, True, None}\n",
    "try:\n",
    "    my_set[0]\n",
    "except TypeError as e:\n",
    "    print(\"Error:\", e)\n",
    "    print(\"Sets are unordered collections and do not support indexing.\")"
   ]
  },
  {
   "cell_type": "code",
   "execution_count": 17,
   "id": "0e07cdab",
   "metadata": {},
   "outputs": [
    {
     "name": "stdout",
     "output_type": "stream",
     "text": [
      "New Set: {1, 2, 3, 4, 5}\n",
      "Set: {65, 34, 67, 4, 33, 100, 10, 234, 12, 45, 656, 23, 89, 90}\n",
      "set {65, 34, 67, 4, 33, 100, 10, 234, 12, 45, 656, 23, 89, 90}\n",
      "Set ss: {0, 1, 2, 3, 4, 5, 6, 7, 8, 9, 10, 11, 12, 13, 14, 15, 16, 17, 18, 19, 20, 21, 22, 23, 24, 25, 26, 27, 28, 29, 30, 31, 32, 33, 34, 35, 36, 37, 38, 39, 40, 41, 42, 43, 44, 45, 46, 47, 48, 49, 50, 51, 52, 53, 54, 55, 56, 57, 58, 59, 60, 61, 62, 63, 64, 65, 66, 67, 68, 69, 70, 71, 72, 73, 74, 75, 76, 77, 78, 79, 80, 81, 82, 83, 84, 85, 86, 87, 88, 89, 90, 91, 92, 93, 94, 95, 96, 97, 98, 99, 100}\n"
     ]
    }
   ],
   "source": [
    "# does insertion order matter in set?\n",
    "new_set = {1}\n",
    "new_set.add(2)\n",
    "new_set.add(3)\n",
    "new_set.add(5)\n",
    "new_set.add(4)\n",
    "\n",
    "print(\"New Set:\", new_set)\n",
    "\n",
    "# are set ordered?\n",
    "# Sets are unordered collections, so the order of elements in a set is not guaranteed. The elements may appear in a different order each time you print the set or iterate over it.\n",
    "\n",
    "s = {10, 4, 34, 65, 234, 656, 33, 23, 12, 45, 67, 89, 90, 100}\n",
    "print(\"Set:\", s)\n",
    "print(\"set\", s)\n",
    "\n",
    "ss= {0}\n",
    "for i in range(1, 101):\n",
    "    ss.add(i)\n",
    "\n",
    "print(\"Set ss:\", ss)"
   ]
  },
  {
   "cell_type": "code",
   "execution_count": 18,
   "id": "a303652a",
   "metadata": {},
   "outputs": [],
   "source": [
    "# In the backend set is implemented using trees, b+ trees\n",
    "# in a dictionaly the keys ar eunique hence they ar eimplemented usign trees in the backend and hence we cannot index them"
   ]
  },
  {
   "cell_type": "code",
   "execution_count": 20,
   "id": "a66a3999",
   "metadata": {},
   "outputs": [
    {
     "name": "stdout",
     "output_type": "stream",
     "text": [
      "List: [0, 1, 2, 3, 4, 5, 6, 7, 8, 9]\n",
      "Tuple: (0, 1, 2, 3, 4, 5, 6, 7, 8, 9)\n",
      "Set: {0, 1, 2, 3, 4, 5, 6, 7, 8, 9}\n",
      "Dictionary: {0: 0, 1: 1, 2: 4, 3: 9, 4: 16, 5: 25, 6: 36, 7: 49, 8: 64, 9: 81}\n"
     ]
    }
   ],
   "source": [
    "# COMPREHENSIONS\n",
    "# initializing a list or a tuple in a single line\n",
    "\n",
    "my_list = [i for i in range(10)]\n",
    "my_tuple = tuple(i for i in range(10))\n",
    "my_set = {i for i in range(10)}\n",
    "my_dict= {i: i**2 for i in range(10)}\n",
    "print(\"List:\", my_list)\n",
    "print(\"Tuple:\", my_tuple)\n",
    "print(\"Set:\", my_set)\n",
    "print(\"Dictionary:\", my_dict)\n",
    "\n",
    "# the blueprint of comprehensions\n",
    "# [expression for item in iterable if condition]"
   ]
  },
  {
   "cell_type": "code",
   "execution_count": 25,
   "id": "338e64e2",
   "metadata": {},
   "outputs": [
    {
     "name": "stdout",
     "output_type": "stream",
     "text": [
      "Empty Set: set()\n",
      "Tuple: 10\n",
      "Type of my_tup: <class 'int'>\n",
      "Set: {10}\n",
      "Type of my_set: <class 'set'>\n",
      "New Tuple: (10,)\n",
      "Type of new_tup: <class 'tuple'>\n"
     ]
    }
   ],
   "source": [
    "# initialize an empty set\n",
    "my_empty_set = set()\n",
    "print(\"Empty Set:\", my_empty_set)\n",
    "\n",
    "my_tup = (10)\n",
    "my_set = {10}\n",
    "print(\"Tuple:\", my_tup)\n",
    "print(\"Type of my_tup:\", type(my_tup))\n",
    "print(\"Set:\", my_set)\n",
    "print(\"Type of my_set:\", type(my_set))\n",
    "\n",
    "new_tup = (10,)\n",
    "print(\"New Tuple:\", new_tup)\n",
    "print(\"Type of new_tup:\", type(new_tup))"
   ]
  },
  {
   "cell_type": "code",
   "execution_count": null,
   "id": "b825a723",
   "metadata": {},
   "outputs": [],
   "source": [
    "# strings-> equivalent to a list of characters\n",
    "my_string = \"Hello, World!\"\n",
    "print(\"String:\", my_string)\n",
    "# strings are immutable\n",
    "# my_string[0] = 'h'  # This will raise a TypeError\n",
    "# print(\"Modified String:\", my_string)\n",
    "# strings are immutable, so we cannot change them in place\n",
    "# we can create a new string with the desired changes\n",
    "new_string = \"h\" + my_string[1:]\n",
    "print(\"New String:\", new_string)\n",
    "\n",
    "# we can use string methods to manipulate strings\n",
    "print(\"Uppercase String:\", my_string.upper())\n",
    "print(\"Lowercase String:\", my_string.lower())\n",
    "# we can use string methods to manipulate strings\n",
    "print(\"Title Case String:\", my_string.title())\n",
    "# we can use string methods to manipulate strings\n",
    "print(\"Reversed String:\", my_string[::-1])\n",
    "# we can use string methods to manipulate strings\n",
    "print(\"String Length:\", len(my_string))\n",
    "# we can use string methods to manipulate strings\n",
    "print(\"String Split:\", my_string.split(\", \"))\n",
    "# we can use string methods to manipulate strings\n",
    "print(\"String Join:\", \", \".join(my_string.split(\", \")))\n",
    "# we can use string methods to manipulate strings\n",
    "print(\"String Replace:\", my_string.replace(\"World\", \"Python\"))\n",
    "# we can use string methods to manipulate strings\n",
    "print(\"String Find:\", my_string.find(\"World\"))\n",
    "# we can use string methods to manipulate strings\n",
    "print(\"String Count:\", my_string.count(\"o\"))\n",
    "# we can use string methods to manipulate strings\n",
    "print(\"String Startswith:\", my_string.startswith(\"Hello\"))\n",
    "# we can use string methods to manipulate strings\n",
    "print(\"String Endswith:\", my_string.endswith(\"!\"))\n",
    "# we can use string methods to manipulate strings\n",
    "print(\"String Isalpha:\", my_string.isalpha())\n"
   ]
  },
  {
   "cell_type": "code",
   "execution_count": 33,
   "id": "0f822d58",
   "metadata": {},
   "outputs": [
    {
     "name": "stdout",
     "output_type": "stream",
     "text": [
      "* * * * * \n",
      " * * * * \n",
      "  * * * \n",
      "   * * \n",
      "    * \n",
      "* * * * * \n",
      " * * * * \n",
      "  * * * \n",
      "   * * \n",
      "    * \n"
     ]
    }
   ],
   "source": [
    "# pattern printing\n",
    "'''\n",
    "* * * * *\n",
    " * * * *\n",
    "  * * *\n",
    "   * *\n",
    "    *\n",
    "'''\n",
    "n = int(input(\"Enter a number: \"))\n",
    "for i in range(n, 0, -1):\n",
    "    print(\" \" * (n - i) + \"* \" * i)\n",
    "\n",
    "for i in range(n):\n",
    "    print(\" \"*i + \"* \" * (n - i))"
   ]
  },
  {
   "cell_type": "code",
   "execution_count": null,
   "id": "66699466",
   "metadata": {},
   "outputs": [
    {
     "name": "stdout",
     "output_type": "stream",
     "text": [
      "ASCII value of 'a': 97\n",
      "ASCII value of 'A': 65\n",
      "ASCII value of '0': 48\n",
      "Character for ASCII 97: a\n",
      "Character for ASCII 65: A\n",
      "Character for ASCII 48: 0\n",
      "Character for ASCII 32:  \n",
      "Character for ASCII 33: !\n",
      "\n",
      "Total characters defined in ASCII: 256\n",
      "aplha 945\n"
     ]
    }
   ],
   "source": [
    "# ascii values\n",
    "print(\"ASCII value of 'a':\", ord('a'))\n",
    "print(\"ASCII value of 'A':\", ord('A'))\n",
    "print(\"ASCII value of '0':\", ord('0'))\n",
    "\n",
    "print(f\"Character for ASCII 97: {chr(97)}\")\n",
    "print(f\"Character for ASCII 65: {chr(65)}\")\n",
    "print(f\"Character for ASCII 48: {chr(48)}\")\n",
    "print(f\"Character for ASCII 32: {chr(32)}\")  # space character\n",
    "print(f\"Character for ASCII 33: {chr(33)}\")  # exclamation\n",
    "\n",
    "print(chr(130))\n",
    "print(\"aplha\", ord('α'))"
   ]
  },
  {
   "cell_type": "code",
   "execution_count": 53,
   "id": "45bff68c",
   "metadata": {},
   "outputs": [
    {
     "name": "stdout",
     "output_type": "stream",
     "text": [
      "ABCDEFGHIJKLMNOPQRSTUVWXYZabcdefghijklmnopqrstuvwxyz0123456789\n",
      "ABCDEFGHIJKLMNOPQRSTUVWXYZabcdefghijklmnopqrstuvwxyz0123456789\n"
     ]
    }
   ],
   "source": [
    "# print the pattern->\n",
    "'''\n",
    "ABCD...Aabcd...z0123..9\n",
    "'''\n",
    "# print(ord('A'), ord('a'), ord(\"0\"), ord(\"1\"))\n",
    "\n",
    "my_list = [print(chr(i), end=\"\") for i in range(ord('A'), ord('Z') + 1)]\n",
    "my_list += [print(chr(i), end=\"\") for i in range(ord('a'), ord('z') + 1)]\n",
    "my_list += [print(chr(i), end=\"\") for i in range(ord('0'), ord('9') + 1)]\n",
    "print()\n",
    "\n",
    "my_list = [chr(i) for i in range(ord('A'), ord('Z') + 1)]\n",
    "my_list += [chr(i) for i in range(ord('a'), ord('z') + 1)]\n",
    "my_list += [chr(i) for i in range(ord('0'), ord('9') + 1)]\n",
    "print(\"\".join(my_list))\n",
    "\n",
    "# for char in my_list:\n",
    "    # print(char, end=\"\")\n",
    "\n",
    "# print(\"List of ASCII values:\", my_list)\n",
    "\n",
    "# for i in range(ord('A'), ord('Z') + 1):\n",
    "#     print(chr(i), end=\"\")\n",
    "# for i in range(ord('a'), ord('z') + 1):\n",
    "#     print(chr(i), end=\"\")\n",
    "# for i in range(ord('0'), ord('9') + 1):\n",
    "#     print(chr(i), end=\"\")"
   ]
  },
  {
   "cell_type": "code",
   "execution_count": 54,
   "id": "3436d4c7",
   "metadata": {},
   "outputs": [
    {
     "name": "stdout",
     "output_type": "stream",
     "text": [
      "List with even numbers: [0, 2, 4, 6, 8]\n"
     ]
    }
   ],
   "source": [
    " #compehension woth conditional statements\n",
    "my_list = [i for i in range(10) if i % 2 == 0]\n",
    "print(\"List with even numbers:\", my_list)"
   ]
  },
  {
   "cell_type": "code",
   "execution_count": 62,
   "id": "9e1657cc",
   "metadata": {},
   "outputs": [
    {
     "name": "stdout",
     "output_type": "stream",
     "text": [
      "Is 16 a perfect square? True\n",
      "Is 17 a perfect square? False\n"
     ]
    }
   ],
   "source": [
    "def squareornot(num)-> bool:\n",
    "    if num<0:\n",
    "        return \"Negative numbers cannot have a square root.\"\n",
    "    elif num == 0:\n",
    "        return \"Square root of 0 is 0.\"\n",
    "    else:\n",
    "        root =int( num ** 0.5 )\n",
    "        newsq = root * root\n",
    "        if newsq == num:\n",
    "            return True\n",
    "        else:\n",
    "            return False\n",
    "\n",
    "num1 = 16\n",
    "num2 = 17\n",
    "print(f\"Is {num1} a perfect square? {squareornot(num1)}\")\n",
    "print(f\"Is {num2} a perfect square? {squareornot(num2)}\")"
   ]
  },
  {
   "cell_type": "code",
   "execution_count": 68,
   "id": "a5ae978e",
   "metadata": {},
   "outputs": [
    {
     "data": {
      "text/plain": [
       "'0, 1, 4, 9, 16, 25, 36, 49, 64, 81, 100'"
      ]
     },
     "execution_count": 68,
     "metadata": {},
     "output_type": "execute_result"
    }
   ],
   "source": [
    "my_list = [str(i**2) for i in range(100) if i**2<=100 ]\n",
    "\", \".join(my_list)"
   ]
  },
  {
   "cell_type": "code",
   "execution_count": 72,
   "id": "b0461211",
   "metadata": {},
   "outputs": [
    {
     "name": "stdout",
     "output_type": "stream",
     "text": [
      "20\t21\t22\t23\t24\t25\t\n",
      "40\t42\t44\t46\t48\t50\t\n",
      "60\t63\t66\t69\t72\t75\t\n",
      "80\t84\t88\t92\t96\t100\t\n",
      "100\t105\t110\t115\t120\t125\t\n",
      "120\t126\t132\t138\t144\t150\t\n",
      "140\t147\t154\t161\t168\t175\t\n",
      "160\t168\t176\t184\t192\t200\t\n",
      "180\t189\t198\t207\t216\t225\t\n",
      "200\t210\t220\t230\t240\t250\t\n"
     ]
    }
   ],
   "source": [
    "# print all the tables between a range\n",
    "lb = int(input(\"Enter lower bound: \"))\n",
    "ub = int(input(\"Enter upper bound: \"))\n",
    "for n in range(1, 11):\n",
    "    for i in range(lb, ub + 1):\n",
    "        print(n*i, end=\"\\t\")\n",
    "    print()"
   ]
  },
  {
   "cell_type": "code",
   "execution_count": 77,
   "id": "a4092061",
   "metadata": {},
   "outputs": [
    {
     "name": "stdout",
     "output_type": "stream",
     "text": [
      "0.0, 0.1, 0.2, 0.30000000000000004, 0.4, 0.5, 0.6000000000000001, 0.7000000000000001, 0.8, 0.9, 1.0, 1.1, 1.2000000000000002, 1.3, 1.4000000000000001, 1.5, 1.6, 1.7000000000000002, 1.8, 1.9000000000000001, 2.0, 2.1, 2.2, 2.3000000000000003, 2.4000000000000004, 2.5, 2.6, 2.7, 2.8000000000000003, 2.9000000000000004, 3.0, 3.1, 3.2, 3.3000000000000003, 3.4000000000000004, 3.5, 3.6, 3.7, 3.8000000000000003, 3.9000000000000004, 4.0, 4.1000000000000005, 4.2, 4.3, 4.4, 4.5, 4.6000000000000005, 4.7, 4.800000000000001, 4.9, 5.0, 5.1000000000000005, 5.2, 5.300000000000001, 5.4, 5.5, 5.6000000000000005, 5.7, 5.800000000000001, 5.9, 6.0, 6.1000000000000005, 6.2, 6.300000000000001, 6.4, 6.5, 6.6000000000000005, 6.7, 6.800000000000001, 6.9, 7.0, 7.1000000000000005, 7.2, 7.300000000000001, 7.4, 7.5, 7.6000000000000005, 7.7, 7.800000000000001, 7.9, 8.0, 8.1, 8.200000000000001, 8.3, 8.4, 8.5, 8.6, 8.700000000000001, 8.8, 8.9, 9.0, 9.1, 9.200000000000001, 9.3, 9.4, 9.5, 9.600000000000001, 9.700000000000001, 9.8, 9.9, 10.0, "
     ]
    }
   ],
   "source": [
    " # print all the numbers between 1 and 10 with multiple of 0.1\n",
    "i = 0\n",
    "ub = 10\n",
    "ans = 1\n",
    "while(ans<10):\n",
    "    ans = i * 0.1\n",
    "    print(ans, end=\", \")\n",
    "    i= i+1"
   ]
  },
  {
   "cell_type": "code",
   "execution_count": null,
   "id": "8d5f1d4f",
   "metadata": {},
   "outputs": [
    {
     "name": "stdout",
     "output_type": "stream",
     "text": [
      "<generator object func at 0x00000247F2E529B0>\n",
      "0\n"
     ]
    }
   ],
   "source": [
    "# yield\n",
    "def func(n):  # this is now a generator function\n",
    "    \"\"\"Generator function that yields numbers from 0 to n-1.\"\"\"\n",
    "    for i in range(n):\n",
    "        yield(i) # this is a generator, it will yield values one by one when called\n",
    "\n",
    "f=func(20)\n",
    "print(f)\n",
    "print(next(f))"
   ]
  },
  {
   "cell_type": "code",
   "execution_count": null,
   "id": "95642aa3",
   "metadata": {},
   "outputs": [
    {
     "name": "stdout",
     "output_type": "stream",
     "text": [
      "0, 0.1, 0.2, 0.30000000000000004, 0.4, 0.5, 0.6, 0.7, 0.7999999999999999, 0.8999999999999999, 0.9999999999999999, "
     ]
    }
   ],
   "source": [
    "# use range yield function for fractions\n",
    "def range_yield(start, end, step):\n",
    "    \"\"\"Generator function that yields numbers from start to end with a given step.\"\"\"\n",
    "    while start < end:\n",
    "        yield start\n",
    "        start += step\n",
    "# Example usage\n",
    "for num in range_yield(0, 1, 0.1):\n",
    "    print(num, end=\", \")\n"
   ]
  },
  {
   "cell_type": "code",
   "execution_count": 1,
   "id": "79926f59",
   "metadata": {},
   "outputs": [
    {
     "data": {
      "text/plain": [
       "8"
      ]
     },
     "execution_count": 1,
     "metadata": {},
     "output_type": "execute_result"
    }
   ],
   "source": [
    "# Lambda function\n",
    "\n",
    "def evaluate(operator, a, b):\n",
    "    return operator(a, b)\n",
    "\n",
    "evaluate(lambda x, y: x+y, 5, 3)"
   ]
  },
  {
   "cell_type": "code",
   "execution_count": 8,
   "id": "7ecbe1fc",
   "metadata": {},
   "outputs": [
    {
     "name": "stdout",
     "output_type": "stream",
     "text": [
      "[[1132, 10], [432, 15], [654, 8]]\n",
      "Sorted nums: [[1132, 10], [654, 8], [432, 15]]\n",
      "Sorted nums by second element: [[654, 8], [1132, 10], [432, 15]]\n"
     ]
    }
   ],
   "source": [
    "nums = [[1132, 10], [432, 15], [654, 8]]\n",
    "print(nums)\n",
    "nums.sort(reverse=True)\n",
    "print(\"Sorted nums:\", nums)\n",
    "nums.sort(key=lambda x:x[1])\n",
    "print(\"Sorted nums by second element:\", nums)"
   ]
  },
  {
   "cell_type": "code",
   "execution_count": null,
   "id": "8efae4ea",
   "metadata": {},
   "outputs": [
    {
     "name": "stdout",
     "output_type": "stream",
     "text": [
      "Tokens: ['12', '+', '45', '-', '24', '+', '3', '-', '5']\n",
      "Initial result: 12\n",
      "The result of the expression '12+45-24+3-5' is: 31\n"
     ]
    }
   ],
   "source": [
    "# write a function to do the following calculator\n",
    "# input = \"12+45-24+3-5\"\n",
    "# output = 31\n",
    "\n",
    "def calculate_expression(expression):\n",
    "    # Split the expression into numbers and operators\n",
    "    import re\n",
    "    tokens = re.findall(r'\\d+|[+-]', expression)\n",
    "    print(\"Tokens:\", tokens)\n",
    "\n",
    "    # Initialize the result with the first number\n",
    "    result = int(tokens[0])\n",
    "    print(\"Initial result:\", result)\n",
    "\n",
    "    # Iterate through the tokens and perform calculations\n",
    "    for i in range(1, len(tokens), 2):\n",
    "        operator = tokens[i]\n",
    "        number = int(tokens[i + 1])\n",
    "\n",
    "        if operator == '+':\n",
    "            result += number\n",
    "        elif operator == '-':\n",
    "            result -= number\n",
    "\n",
    "    return result\n",
    "# Example usage\n",
    "expression = \"12+45-24+3-5\"\n",
    "result = calculate_expression(expression)\n",
    "print(f\"The result of the expression '{expression}' is: {result}\")"
   ]
  },
  {
   "cell_type": "code",
   "execution_count": 25,
   "id": "3c491b49",
   "metadata": {},
   "outputs": [
    {
     "name": "stdout",
     "output_type": "stream",
     "text": [
      "Final result: 31\n"
     ]
    }
   ],
   "source": [
    "def solve(numbers, operators):\n",
    "    n2 = numbers.pop()\n",
    "    n1 = numbers.pop()\n",
    "    op = operators.pop()\n",
    "    if op == '+':\n",
    "        result = n1 + n2\n",
    "    else:\n",
    "        result = n1 - n2\n",
    "    numbers.append(result)\n",
    "\n",
    "def evaluate(expression: str):\n",
    "    i = 0\n",
    "    numbers = []\n",
    "    operators = []\n",
    "    while i < len(expression):\n",
    "        if expression[i].isdigit():\n",
    "            num = 0\n",
    "            while i < len(expression) and expression[i].isdigit():\n",
    "                num = num * 10 + int(expression[i])\n",
    "                i += 1\n",
    "            numbers.append(num)\n",
    "        else:\n",
    "            while operators:\n",
    "                solve(numbers, operators)\n",
    "            operators.append(expression[i])\n",
    "            i += 1\n",
    "\n",
    "    while operators:\n",
    "        solve(numbers, operators)\n",
    "    print(\"Final result:\", numbers[0])\n",
    "\n",
    "input_expression = \"12+45-24+3-5\"\n",
    "evaluate(input_expression)"
   ]
  },
  {
   "cell_type": "code",
   "execution_count": 26,
   "id": "c6b31947",
   "metadata": {},
   "outputs": [
    {
     "ename": "SyntaxError",
     "evalue": "incomplete input (270613821.py, line 38)",
     "output_type": "error",
     "traceback": [
      "\u001b[1;36m  Cell \u001b[1;32mIn[26], line 38\u001b[1;36m\u001b[0m\n\u001b[1;33m    while i < len(expression):\u001b[0m\n\u001b[1;37m                              ^\u001b[0m\n\u001b[1;31mSyntaxError\u001b[0m\u001b[1;31m:\u001b[0m incomplete input\n"
     ]
    }
   ],
   "source": [
    "# WRITE A FUNCTIPON FOR THE FOLLOWIGN CALCUKATUIION TASK\n",
    "# INPUT= \"23+45/9*2-5\"\n",
    "# output =\n",
    "\n",
    "def solve(numbers, operators):\n",
    "    n2 = numbers.pop()\n",
    "    n1 = numbers.pop()\n",
    "    op = operators.pop()\n",
    "    if op == '+':\n",
    "        result = n1 + n2\n",
    "    elif op == '-':\n",
    "        result = n1 - n2\n",
    "    elif op == '*':\n",
    "        result = n1 * n2\n",
    "    elif op == '/':\n",
    "        if n2 == 0:\n",
    "            raise ValueError(\"Cannot divide by zero\")\n",
    "        result = n1 / n2\n",
    "    else:\n",
    "        raise ValueError(f\"Unknown operator: {op}\")\n",
    "\n",
    "    numbers.append(result)\n",
    "\n",
    "\n",
    "def precedence(op):\n",
    "    if op in ('+', '-'):\n",
    "        return 1\n",
    "    if op in ('*'):\n",
    "        return 2\n",
    "    if op in ('/'):\n",
    "        return 3\n",
    "    return 0\n",
    "\n",
    "def evaluate(expression: str):\n",
    "    i = 0\n",
    "    numbers = []\n",
    "    operators = []\n",
    "    while i < len(expression):\n"
   ]
  },
  {
   "cell_type": "code",
   "execution_count": null,
   "id": "3dc6a343",
   "metadata": {},
   "outputs": [],
   "source": [
    "# write a function to calculate the following\n",
    "# input = \"10 + 2 * ( 6 + 3 ) - 4\"\n",
    "# output = 24\n",
    "# The next step is to include functions (tan, exp, sqrt)\n",
    "\n",
    "# this wa aksed in microsoft for 2 hours in cpp"
   ]
  }
 ],
 "metadata": {
  "kernelspec": {
   "display_name": "base",
   "language": "python",
   "name": "python3"
  },
  "language_info": {
   "codemirror_mode": {
    "name": "ipython",
    "version": 3
   },
   "file_extension": ".py",
   "mimetype": "text/x-python",
   "name": "python",
   "nbconvert_exporter": "python",
   "pygments_lexer": "ipython3",
   "version": "3.12.4"
  }
 },
 "nbformat": 4,
 "nbformat_minor": 5
}
